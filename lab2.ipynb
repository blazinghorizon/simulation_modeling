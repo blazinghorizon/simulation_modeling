{
 "cells": [
  {
   "cell_type": "code",
   "execution_count": 1,
   "metadata": {},
   "outputs": [],
   "source": [
    "import numpy as np\n",
    "import math\n",
    "\n",
    "n = 50\n",
    "lambda_par = 0.5"
   ]
  },
  {
   "cell_type": "code",
   "execution_count": 15,
   "metadata": {},
   "outputs": [],
   "source": [
    "# Генерация распределений длин ребер показательно\n",
    "def generate_selection():\n",
    "  select_data = []\n",
    "  for _ in range(0, n):\n",
    "    row = [-1/lambda_par * math.log(1 - x) for x in np.random.uniform(size=5)]\n",
    "    select_data.append(row)\n",
    "  return np.array(select_data)"
   ]
  },
  {
   "cell_type": "code",
   "execution_count": 26,
   "metadata": {},
   "outputs": [],
   "source": [
    "# случайный вектор средних\n",
    "vect = np.array([float(item) for item in input(\"Введите случайный вектор (N = 5)\").split()][:5])\n",
    "\n",
    "# матрица ковариаций\n",
    "cov_matrix = np.array(\n",
    " [[1., 0, 0, 0, 0],\n",
    " [0, 1, 0, 0, 0,],\n",
    " [0, 0, 1, 0, 0],\n",
    " [0, 0, 0, 1, 0],\n",
    " [0, 0, 0, 0, 1]]\n",
    ")\n",
    "\n",
    "def generate_selection():\n",
    "  # Генерация распределений длин ребер через вектор средних и матрицу ковариаций\n",
    "  a = np.linalg.cholesky(cov_matrix)\n",
    "  selection_data = []\n",
    "  for _ in range(0, n):\n",
    "    observ = np.matmul(a, np.random.normal(0, 1, 5).T)\n",
    "    observ = np.add(observ, vect)\n",
    "    selection_data.append(observ)\n",
    "\n",
    "  return np.array(selection_data)"
   ]
  },
  {
   "cell_type": "code",
   "execution_count": 27,
   "metadata": {},
   "outputs": [
    {
     "name": "stdout",
     "output_type": "stream",
     "text": [
      "[[ 0.49052356 -0.05373083  3.15028522  3.6660441   5.01555593]\n",
      " [-0.23748194  2.06192079  4.40460144  6.33554723  5.64598428]\n",
      " [ 0.18038859  2.6724585   3.37711787  4.50884148  6.30720935]]\n"
     ]
    }
   ],
   "source": [
    "selection = generate_selection()\n",
    "print(selection[:3])"
   ]
  },
  {
   "cell_type": "code",
   "execution_count": 28,
   "metadata": {},
   "outputs": [
    {
     "name": "stdout",
     "output_type": "stream",
     "text": [
      "[1.0527896677377424, 1.9389937766825769, 3.022946909355828, 4.1252663154538824, 5.144762669716131]\n",
      "('x1->x4', 5.178055983191625)\n"
     ]
    }
   ],
   "source": [
    "means = [np.mean(row) for row in selection.T]\n",
    "print(means)\n",
    "\n",
    "routes = []\n",
    "\n",
    "lambda_dict = {\n",
    "  \"x1->x4\": lambda row: row[0] + row[3],\n",
    "  \"x2->x5\": lambda row: row[1] + row[4],\n",
    "  \"x1->x3->x5\": lambda row: row[0] + row[2] + row[4],\n",
    "  \"x2->x3->x4\": lambda row: row[1] + row[2] + row[3]\n",
    "}\n",
    "\n",
    "routes.append((\"x1->x4\", lambda_dict[\"x1->x4\"](means)))\n",
    "routes.append((\"x2->x5\", lambda_dict[\"x2->x5\"](means)))\n",
    "routes.append((\"x1->x3->x5\", lambda_dict[\"x1->x3->x5\"](means)))\n",
    "routes.append((\"x2->x3->x4\", lambda_dict[\"x2->x3->x4\"](means)))\n",
    "\n",
    "min_route = min(routes, key=lambda t: t[1])\n",
    "print(min_route)"
   ]
  },
  {
   "cell_type": "code",
   "execution_count": 29,
   "metadata": {},
   "outputs": [
    {
     "name": "stdout",
     "output_type": "stream",
     "text": [
      "U = 3.056951867789232\n"
     ]
    }
   ],
   "source": [
    "# Высчитываем значение U\n",
    "u = np.average(means)\n",
    "print(\"U =\", u)"
   ]
  },
  {
   "cell_type": "code",
   "execution_count": 30,
   "metadata": {},
   "outputs": [
    {
     "name": "stdout",
     "output_type": "stream",
     "text": [
      "0.98\n"
     ]
    }
   ],
   "source": [
    "count = 0\n",
    "for row in selection:\n",
    "  distance = lambda_dict[min_route[0]](row)\n",
    "  if distance > u:\n",
    "    count += 1\n",
    "\n",
    "prob = count / n\n",
    "print(prob)"
   ]
  }
 ],
 "metadata": {
  "kernelspec": {
   "display_name": "stats",
   "language": "python",
   "name": "python3"
  },
  "language_info": {
   "codemirror_mode": {
    "name": "ipython",
    "version": 3
   },
   "file_extension": ".py",
   "mimetype": "text/x-python",
   "name": "python",
   "nbconvert_exporter": "python",
   "pygments_lexer": "ipython3",
   "version": "3.10.4"
  },
  "orig_nbformat": 4
 },
 "nbformat": 4,
 "nbformat_minor": 2
}
