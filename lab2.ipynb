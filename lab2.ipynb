{
 "cells": [
  {
   "cell_type": "code",
   "execution_count": 60,
   "metadata": {},
   "outputs": [],
   "source": [
    "import numpy as np\n",
    "import math\n",
    "\n",
    "n = 50\n",
    "lambda_par = 0.5"
   ]
  },
  {
   "cell_type": "code",
   "execution_count": 61,
   "metadata": {},
   "outputs": [],
   "source": [
    "# Генерация распределений длин ребер показательно\n",
    "def generate_selection():\n",
    "  select_data = []\n",
    "  for _ in range(0, n):\n",
    "    row = [-1/lambda_par * math.log(1 - x) for x in np.random.uniform(size=5)]\n",
    "    select_data.append(row)\n",
    "  return np.array(select_data)"
   ]
  },
  {
   "cell_type": "code",
   "execution_count": 55,
   "metadata": {},
   "outputs": [],
   "source": [
    "# случайный вектор средних\n",
    "vect = np.array([float(item) for item in input(\"Введите случайный вектор (N = 5)\").split()][:5])\n",
    "\n",
    "# матрица ковариаций\n",
    "cov_matrix = np.array(\n",
    " [[1., 0, 0, 0, 0],\n",
    " [0, 1, 0, 0, 0,],\n",
    " [0, 0, 1, 0, 0],\n",
    " [0, 0, 0, 1, 0],\n",
    " [0, 0, 0, 0, 1]]\n",
    ")\n",
    "\n",
    "def generate_selection():\n",
    "  # Генерация распределений длин ребер через вектор средних и матрицу ковариаций\n",
    "  a = np.linalg.cholesky(cov_matrix)\n",
    "  selection_data = []\n",
    "  for _ in range(0, n):\n",
    "    observ = np.matmul(a, np.random.normal(0, 1, 5).T)\n",
    "    observ = np.add(observ, vect)\n",
    "    selection_data.append(observ)\n",
    "\n",
    "  return np.array(selection_data)"
   ]
  },
  {
   "cell_type": "code",
   "execution_count": 62,
   "metadata": {},
   "outputs": [
    {
     "name": "stdout",
     "output_type": "stream",
     "text": [
      "[[0.44909075 5.94353631 0.20316407 1.48057953 1.62359947]\n",
      " [2.8330249  3.6650819  1.05654702 3.66155061 0.60034178]\n",
      " [0.27995345 1.5148037  2.8675511  0.73301982 0.2081725 ]]\n"
     ]
    }
   ],
   "source": [
    "selection = generate_selection()\n",
    "print(selection[:3])"
   ]
  },
  {
   "cell_type": "code",
   "execution_count": 63,
   "metadata": {},
   "outputs": [
    {
     "name": "stdout",
     "output_type": "stream",
     "text": [
      "[2.237865069148886, 1.956233461940385, 1.9088540756677093, 1.96915180174103, 1.9225335260733956]\n",
      "('x2->x5', 3.8787669880137807)\n"
     ]
    }
   ],
   "source": [
    "means = [np.mean(row) for row in selection.T]\n",
    "print(means)\n",
    "\n",
    "routes = []\n",
    "\n",
    "lambda_dict = {\n",
    "  \"x1->x4\": lambda row: row[0] + row[3],\n",
    "  \"x2->x5\": lambda row: row[1] + row[4],\n",
    "  \"x1->x3->x5\": lambda row: row[0] + row[2] + row[4],\n",
    "  \"x2->x3->x4\": lambda row: row[1] + row[2] + row[3]\n",
    "}\n",
    "\n",
    "routes.append((\"x1->x4\", lambda_dict[\"x1->x4\"](means)))\n",
    "routes.append((\"x2->x5\", lambda_dict[\"x2->x5\"](means)))\n",
    "routes.append((\"x1->x3->x5\", lambda_dict[\"x1->x3->x5\"](means)))\n",
    "routes.append((\"x2->x3->x4\", lambda_dict[\"x2->x3->x4\"](means)))\n",
    "\n",
    "min_route = min(routes, key=lambda t: t[1])\n",
    "print(min_route)"
   ]
  },
  {
   "cell_type": "code",
   "execution_count": 64,
   "metadata": {},
   "outputs": [
    {
     "name": "stdout",
     "output_type": "stream",
     "text": [
      "U = 1.9989275869142813\n"
     ]
    }
   ],
   "source": [
    "# Высчитываем значение U\n",
    "u = np.average(means)\n",
    "print(\"U =\", u)"
   ]
  },
  {
   "cell_type": "code",
   "execution_count": 65,
   "metadata": {},
   "outputs": [
    {
     "name": "stdout",
     "output_type": "stream",
     "text": [
      "Вероятность того, что кратчайший путь превысит значение U = 0.76\n"
     ]
    }
   ],
   "source": [
    "count = 0\n",
    "for row in selection:\n",
    "  distance = lambda_dict[min_route[0]](row)\n",
    "  if distance > u:\n",
    "    count += 1\n",
    "\n",
    "prob = count / n\n",
    "print(\"Вероятность того, что кратчайший путь превысит значение U =\", prob)"
   ]
  }
 ],
 "metadata": {
  "kernelspec": {
   "display_name": "stats",
   "language": "python",
   "name": "python3"
  },
  "language_info": {
   "codemirror_mode": {
    "name": "ipython",
    "version": 3
   },
   "file_extension": ".py",
   "mimetype": "text/x-python",
   "name": "python",
   "nbconvert_exporter": "python",
   "pygments_lexer": "ipython3",
   "version": "3.10.4"
  },
  "orig_nbformat": 4
 },
 "nbformat": 4,
 "nbformat_minor": 2
}
