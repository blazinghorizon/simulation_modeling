{
 "cells": [
  {
   "cell_type": "code",
   "execution_count": null,
   "metadata": {},
   "outputs": [],
   "source": []
  },
  {
   "attachments": {},
   "cell_type": "markdown",
   "metadata": {},
   "source": [
    "### Лабораторная 1"
   ]
  },
  {
   "attachments": {},
   "cell_type": "markdown",
   "metadata": {},
   "source": [
    "#### 1.1"
   ]
  },
  {
   "cell_type": "code",
   "execution_count": 10,
   "metadata": {},
   "outputs": [
    {
     "data": {
      "text/plain": [
       "0.0064"
      ]
     },
     "execution_count": 10,
     "metadata": {},
     "output_type": "execute_result"
    }
   ],
   "source": [
    "from scipy import integrate\n",
    "\n",
    "# функция распределения\n",
    "function = lambda x: pow(x, 3) * (5 - x)\n",
    "interval = (0, 5)\n",
    "\n",
    "# интегрируем без параметра А\n",
    "result = integrate.quad(function, interval[0], interval[1])\n",
    "# получаем значение интеграла без A\n",
    "value = round(result[0], 2)\n",
    "\n",
    "# вычисляем значение A\n",
    "A = 1 / value\n",
    "A"
   ]
  },
  {
   "cell_type": "code",
   "execution_count": 11,
   "metadata": {},
   "outputs": [
    {
     "data": {
      "text/plain": [
       "1.0"
      ]
     },
     "execution_count": 11,
     "metadata": {},
     "output_type": "execute_result"
    }
   ],
   "source": [
    "# проверяем, что нашли верное значение\n",
    "full_function = lambda x: A * pow(x, 3) * (5 - x)\n",
    "result = integrate.quad(full_function, interval[0], interval[1])\n",
    "result[0]"
   ]
  },
  {
   "cell_type": "code",
   "execution_count": 15,
   "metadata": {},
   "outputs": [
    {
     "data": {
      "text/plain": [
       "[0.001,\n",
       " 0.006,\n",
       " 0.012,\n",
       " 0.021,\n",
       " 0.032,\n",
       " 0.037,\n",
       " 0.039,\n",
       " 0.044,\n",
       " 0.053,\n",
       " 0.071,\n",
       " 0.089,\n",
       " 0.094,\n",
       " 0.104,\n",
       " 0.11,\n",
       " 0.129,\n",
       " 0.138,\n",
       " 0.145,\n",
       " 0.163,\n",
       " 0.167,\n",
       " 0.185,\n",
       " 0.211,\n",
       " 0.251,\n",
       " 0.271,\n",
       " 0.272,\n",
       " 0.274,\n",
       " 0.298,\n",
       " 0.312,\n",
       " 0.322,\n",
       " 0.323,\n",
       " 0.34,\n",
       " 0.341,\n",
       " 0.345,\n",
       " 0.348,\n",
       " 0.351,\n",
       " 0.383,\n",
       " 0.386,\n",
       " 0.388,\n",
       " 0.407,\n",
       " 0.417,\n",
       " 0.429,\n",
       " 0.44,\n",
       " 0.444,\n",
       " 0.446,\n",
       " 0.459,\n",
       " 0.48,\n",
       " 0.488,\n",
       " 0.494,\n",
       " 0.497,\n",
       " 0.522,\n",
       " 0.525,\n",
       " 0.533,\n",
       " 0.534,\n",
       " 0.539,\n",
       " 0.549,\n",
       " 0.551,\n",
       " 0.574,\n",
       " 0.575,\n",
       " 0.578,\n",
       " 0.587,\n",
       " 0.61,\n",
       " 0.611,\n",
       " 0.623,\n",
       " 0.653,\n",
       " 0.654,\n",
       " 0.66,\n",
       " 0.661,\n",
       " 0.682,\n",
       " 0.683,\n",
       " 0.684,\n",
       " 0.701,\n",
       " 0.718,\n",
       " 0.743,\n",
       " 0.749,\n",
       " 0.772,\n",
       " 0.787,\n",
       " 0.792,\n",
       " 0.809,\n",
       " 0.815,\n",
       " 0.82,\n",
       " 0.828,\n",
       " 0.839,\n",
       " 0.84,\n",
       " 0.853,\n",
       " 0.857,\n",
       " 0.858,\n",
       " 0.867,\n",
       " 0.872,\n",
       " 0.895,\n",
       " 0.899,\n",
       " 0.911,\n",
       " 0.914,\n",
       " 0.922,\n",
       " 0.927,\n",
       " 0.928,\n",
       " 0.933,\n",
       " 0.941,\n",
       " 0.972,\n",
       " 0.996,\n",
       " 0.997,\n",
       " 0.999]"
      ]
     },
     "execution_count": 15,
     "metadata": {},
     "output_type": "execute_result"
    }
   ],
   "source": [
    "import random\n",
    "random.seed(123)\n",
    "\n",
    "koef = 1000\n",
    "N = 100\n",
    "\n",
    "fix = lambda x: x / koef\n",
    "\n",
    "u1 = random.sample(range(0, 1000), N)\n",
    "u1 = sorted(list(map(fix, u1)))\n",
    "u1"
   ]
  }
 ],
 "metadata": {
  "kernelspec": {
   "display_name": "stats",
   "language": "python",
   "name": "python3"
  },
  "language_info": {
   "codemirror_mode": {
    "name": "ipython",
    "version": 3
   },
   "file_extension": ".py",
   "mimetype": "text/x-python",
   "name": "python",
   "nbconvert_exporter": "python",
   "pygments_lexer": "ipython3",
   "version": "3.10.4"
  },
  "orig_nbformat": 4,
  "vscode": {
   "interpreter": {
    "hash": "ab6ca09cff8a9ff71938a847248485fdaf4fe9c35a9199f94d07fb0e87c0c589"
   }
  }
 },
 "nbformat": 4,
 "nbformat_minor": 2
}
