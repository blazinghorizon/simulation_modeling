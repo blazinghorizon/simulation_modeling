{
 "cells": [
  {
   "cell_type": "code",
   "execution_count": null,
   "metadata": {},
   "outputs": [],
   "source": []
  },
  {
   "attachments": {},
   "cell_type": "markdown",
   "metadata": {},
   "source": [
    "### Лабораторная 1"
   ]
  },
  {
   "attachments": {},
   "cell_type": "markdown",
   "metadata": {},
   "source": [
    "#### 1.1"
   ]
  },
  {
   "cell_type": "code",
   "execution_count": 10,
   "metadata": {},
   "outputs": [
    {
     "data": {
      "text/plain": [
       "0.0064"
      ]
     },
     "execution_count": 10,
     "metadata": {},
     "output_type": "execute_result"
    }
   ],
   "source": [
    "from scipy import integrate\n",
    "\n",
    "# функция распределения\n",
    "function = lambda x: pow(x, 3) * (5 - x)\n",
    "interval = (0, 5)\n",
    "\n",
    "# интегрируем без параметра А\n",
    "result = integrate.quad(function, interval[0], interval[1])\n",
    "# получаем значение интеграла без A\n",
    "value = round(result[0], 2)\n",
    "\n",
    "# вычисляем значение A\n",
    "A = 1 / value\n",
    "A"
   ]
  },
  {
   "cell_type": "code",
   "execution_count": 11,
   "metadata": {},
   "outputs": [
    {
     "data": {
      "text/plain": [
       "1.0"
      ]
     },
     "execution_count": 11,
     "metadata": {},
     "output_type": "execute_result"
    }
   ],
   "source": [
    "# проверяем, что нашли верное значение\n",
    "full_function = lambda x: A * pow(x, 3) * (5 - x)\n",
    "result = integrate.quad(full_function, interval[0], interval[1])\n",
    "result[0]"
   ]
  },
  {
   "cell_type": "code",
   "execution_count": 62,
   "metadata": {},
   "outputs": [
    {
     "data": {
      "text/plain": [
       "(0.052363598850944326, 0.08718667752263232)"
      ]
     },
     "execution_count": 62,
     "metadata": {},
     "output_type": "execute_result"
    }
   ],
   "source": [
    "import random\n",
    "random.seed(123)\n",
    "\n",
    "# генерируем u1 и u2\n",
    "koef = 1000\n",
    "N = 100\n",
    "\n",
    "fix = lambda x: x / koef\n",
    "\n",
    "def generate_u():\n",
    "    u1 = random.uniform(0, 1)\n",
    "    #u1 = sorted(list(map(fix, u1)))\n",
    "\n",
    "    u2 = random.uniform(0, 1)\n",
    "    #u2 = random.sample(range(0, 1001), N)\n",
    "    #u2 = sorted(list(map(fix, u2)))\n",
    "    return u1, u2\n",
    "\n",
    "u1, u2 = generate_u()\n",
    "u1, u2"
   ]
  },
  {
   "cell_type": "code",
   "execution_count": 18,
   "metadata": {},
   "outputs": [
    {
     "data": {
      "text/plain": [
       "(0, 3.75)"
      ]
     },
     "execution_count": 18,
     "metadata": {},
     "output_type": "execute_result"
    }
   ],
   "source": [
    "# производная f(x)\n",
    "diff_func = lambda x: pow(x, 2) * (15*A - 4*A*x)\n",
    "# считаем точки экстремума\n",
    "extremum_1 = 0\n",
    "extremum_2 = 15 * A / 4 / A\n",
    "\n",
    "extremum_1, extremum_2"
   ]
  },
  {
   "cell_type": "code",
   "execution_count": 23,
   "metadata": {},
   "outputs": [
    {
     "data": {
      "text/plain": [
       "0.421875"
      ]
     },
     "execution_count": 23,
     "metadata": {},
     "output_type": "execute_result"
    }
   ],
   "source": [
    "# считаем значения в точке экстремума\n",
    "M = full_function(extremum_2)\n",
    "M"
   ]
  },
  {
   "cell_type": "code",
   "execution_count": 27,
   "metadata": {},
   "outputs": [
    {
     "ename": "KeyboardInterrupt",
     "evalue": "",
     "output_type": "error",
     "traceback": [
      "\u001b[1;31m---------------------------------------------------------------------------\u001b[0m",
      "\u001b[1;31mKeyboardInterrupt\u001b[0m                         Traceback (most recent call last)",
      "\u001b[1;32mc:\\Users\\apexk\\simulation_modeling\\lab1.ipynb Cell 9\u001b[0m in \u001b[0;36m<cell line: 4>\u001b[1;34m()\u001b[0m\n\u001b[0;32m      <a href='vscode-notebook-cell:/c%3A/Users/apexk/simulation_modeling/lab1.ipynb#X10sZmlsZQ%3D%3D?line=1'>2</a>\u001b[0m x2_func \u001b[39m=\u001b[39m \u001b[39mlambda\u001b[39;00m u2: M \u001b[39m*\u001b[39m u2\n\u001b[0;32m      <a href='vscode-notebook-cell:/c%3A/Users/apexk/simulation_modeling/lab1.ipynb#X10sZmlsZQ%3D%3D?line=3'>4</a>\u001b[0m \u001b[39mwhile\u001b[39;00m \u001b[39mTrue\u001b[39;00m:\n\u001b[1;32m----> <a href='vscode-notebook-cell:/c%3A/Users/apexk/simulation_modeling/lab1.ipynb#X10sZmlsZQ%3D%3D?line=4'>5</a>\u001b[0m     U1, U2 \u001b[39m=\u001b[39m generate_u()\n\u001b[0;32m      <a href='vscode-notebook-cell:/c%3A/Users/apexk/simulation_modeling/lab1.ipynb#X10sZmlsZQ%3D%3D?line=5'>6</a>\u001b[0m     is_correct \u001b[39m=\u001b[39m \u001b[39mTrue\u001b[39;00m\n\u001b[0;32m      <a href='vscode-notebook-cell:/c%3A/Users/apexk/simulation_modeling/lab1.ipynb#X10sZmlsZQ%3D%3D?line=6'>7</a>\u001b[0m     \u001b[39mfor\u001b[39;00m u1, u2 \u001b[39min\u001b[39;00m \u001b[39mzip\u001b[39m(U1, U2):\n",
      "\u001b[1;32mc:\\Users\\apexk\\simulation_modeling\\lab1.ipynb Cell 9\u001b[0m in \u001b[0;36mgenerate_u\u001b[1;34m()\u001b[0m\n\u001b[0;32m     <a href='vscode-notebook-cell:/c%3A/Users/apexk/simulation_modeling/lab1.ipynb#X10sZmlsZQ%3D%3D?line=10'>11</a>\u001b[0m u1 \u001b[39m=\u001b[39m random\u001b[39m.\u001b[39msample(\u001b[39mrange\u001b[39m(\u001b[39m0\u001b[39m, \u001b[39m1000\u001b[39m), N)\n\u001b[0;32m     <a href='vscode-notebook-cell:/c%3A/Users/apexk/simulation_modeling/lab1.ipynb#X10sZmlsZQ%3D%3D?line=11'>12</a>\u001b[0m u1 \u001b[39m=\u001b[39m \u001b[39msorted\u001b[39m(\u001b[39mlist\u001b[39m(\u001b[39mmap\u001b[39m(fix, u1)))\n\u001b[1;32m---> <a href='vscode-notebook-cell:/c%3A/Users/apexk/simulation_modeling/lab1.ipynb#X10sZmlsZQ%3D%3D?line=13'>14</a>\u001b[0m u2 \u001b[39m=\u001b[39m random\u001b[39m.\u001b[39;49msample(\u001b[39mrange\u001b[39;49m(\u001b[39m0\u001b[39;49m, \u001b[39m1000\u001b[39;49m), N)\n\u001b[0;32m     <a href='vscode-notebook-cell:/c%3A/Users/apexk/simulation_modeling/lab1.ipynb#X10sZmlsZQ%3D%3D?line=14'>15</a>\u001b[0m u2 \u001b[39m=\u001b[39m \u001b[39msorted\u001b[39m(\u001b[39mlist\u001b[39m(\u001b[39mmap\u001b[39m(fix, u2)))\n\u001b[0;32m     <a href='vscode-notebook-cell:/c%3A/Users/apexk/simulation_modeling/lab1.ipynb#X10sZmlsZQ%3D%3D?line=15'>16</a>\u001b[0m \u001b[39mreturn\u001b[39;00m u1, u2\n",
      "File \u001b[1;32mc:\\Users\\apexk\\miniconda3\\envs\\stats\\lib\\random.py:492\u001b[0m, in \u001b[0;36mRandom.sample\u001b[1;34m(self, population, k, counts)\u001b[0m\n\u001b[0;32m    490\u001b[0m pool \u001b[39m=\u001b[39m \u001b[39mlist\u001b[39m(population)\n\u001b[0;32m    491\u001b[0m \u001b[39mfor\u001b[39;00m i \u001b[39min\u001b[39;00m \u001b[39mrange\u001b[39m(k):\n\u001b[1;32m--> 492\u001b[0m     j \u001b[39m=\u001b[39m randbelow(n \u001b[39m-\u001b[39;49m i)\n\u001b[0;32m    493\u001b[0m     result[i] \u001b[39m=\u001b[39m pool[j]\n\u001b[0;32m    494\u001b[0m     pool[j] \u001b[39m=\u001b[39m pool[n \u001b[39m-\u001b[39m i \u001b[39m-\u001b[39m \u001b[39m1\u001b[39m]  \u001b[39m# move non-selected item into vacancy\u001b[39;00m\n",
      "File \u001b[1;32mc:\\Users\\apexk\\miniconda3\\envs\\stats\\lib\\random.py:239\u001b[0m, in \u001b[0;36mRandom._randbelow_with_getrandbits\u001b[1;34m(self, n)\u001b[0m\n\u001b[0;32m    236\u001b[0m             \u001b[39mcls\u001b[39m\u001b[39m.\u001b[39m_randbelow \u001b[39m=\u001b[39m \u001b[39mcls\u001b[39m\u001b[39m.\u001b[39m_randbelow_without_getrandbits\n\u001b[0;32m    237\u001b[0m             \u001b[39mbreak\u001b[39;00m\n\u001b[1;32m--> 239\u001b[0m \u001b[39mdef\u001b[39;00m \u001b[39m_randbelow_with_getrandbits\u001b[39m(\u001b[39mself\u001b[39m, n):\n\u001b[0;32m    240\u001b[0m     \u001b[39m\"\u001b[39m\u001b[39mReturn a random int in the range [0,n).  Returns 0 if n==0.\u001b[39m\u001b[39m\"\u001b[39m\n\u001b[0;32m    242\u001b[0m     \u001b[39mif\u001b[39;00m \u001b[39mnot\u001b[39;00m n:\n",
      "\u001b[1;31mKeyboardInterrupt\u001b[0m: "
     ]
    }
   ],
   "source": [
    "x1_func = lambda u1: interval[0] + (interval[1] - interval[0]) * u1\n",
    "x2_func = lambda u2: M * u2\n",
    "\n",
    "while True:\n",
    "    U1, U2 = generate_u()\n",
    "    is_correct = True\n",
    "    for u1, u2 in zip(U1, U2):\n",
    "        comparsion: bool = True\n",
    "\n",
    "        x1 = x1_func(u1)\n",
    "        x2 = x2_func(u2)\n",
    "\n",
    "        f_x1 = full_function(x1)\n",
    "\n",
    "        comparsion = x2 <= f_x1\n",
    "\n",
    "        if comparsion == False:\n",
    "            is_correct = False\n",
    "            break\n",
    "    \n",
    "    if is_correct:\n",
    "        break"
   ]
  }
 ],
 "metadata": {
  "kernelspec": {
   "display_name": "stats",
   "language": "python",
   "name": "python3"
  },
  "language_info": {
   "codemirror_mode": {
    "name": "ipython",
    "version": 3
   },
   "file_extension": ".py",
   "mimetype": "text/x-python",
   "name": "python",
   "nbconvert_exporter": "python",
   "pygments_lexer": "ipython3",
   "version": "3.10.4"
  },
  "orig_nbformat": 4,
  "vscode": {
   "interpreter": {
    "hash": "ab6ca09cff8a9ff71938a847248485fdaf4fe9c35a9199f94d07fb0e87c0c589"
   }
  }
 },
 "nbformat": 4,
 "nbformat_minor": 2
}
