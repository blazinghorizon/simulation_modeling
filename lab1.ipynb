{
 "cells": [
  {
   "attachments": {},
   "cell_type": "markdown",
   "metadata": {},
   "source": [
    "### Лабораторная 1"
   ]
  },
  {
   "attachments": {},
   "cell_type": "markdown",
   "metadata": {},
   "source": [
    "#### 1.1"
   ]
  },
  {
   "cell_type": "code",
   "execution_count": 1,
   "metadata": {},
   "outputs": [
    {
     "data": {
      "text/plain": [
       "0.0064"
      ]
     },
     "execution_count": 1,
     "metadata": {},
     "output_type": "execute_result"
    }
   ],
   "source": [
    "from scipy import integrate, stats\n",
    "\n",
    "# функция распределения\n",
    "function = lambda x: pow(x, 3) * (5 - x)\n",
    "interval = (0, 5)\n",
    "\n",
    "# интегрируем без параметра А\n",
    "result = integrate.quad(function, interval[0], interval[1])\n",
    "# получаем значение интеграла без A\n",
    "value = round(result[0], 2)\n",
    "\n",
    "# вычисляем значение A\n",
    "A = 1 / value\n",
    "A"
   ]
  },
  {
   "cell_type": "code",
   "execution_count": 2,
   "metadata": {},
   "outputs": [
    {
     "data": {
      "text/plain": [
       "1.0"
      ]
     },
     "execution_count": 2,
     "metadata": {},
     "output_type": "execute_result"
    }
   ],
   "source": [
    "# проверяем, что нашли верное значение\n",
    "full_function = lambda x: A * pow(x, 3) * (5 - x)\n",
    "result = integrate.quad(full_function, interval[0], interval[1])\n",
    "result[0]"
   ]
  },
  {
   "cell_type": "code",
   "execution_count": 3,
   "metadata": {},
   "outputs": [
    {
     "data": {
      "text/plain": [
       "(0.052363598850944326, 0.08718667752263232)"
      ]
     },
     "execution_count": 3,
     "metadata": {},
     "output_type": "execute_result"
    }
   ],
   "source": [
    "import random\n",
    "random.seed(123)\n",
    "\n",
    "# генерируем u1 и u2\n",
    "koef = 1000\n",
    "N = 100\n",
    "\n",
    "fix = lambda x: x / koef\n",
    "\n",
    "def generate_u():\n",
    "    u1 = random.uniform(0, 1)\n",
    "    u2 = random.uniform(0, 1)\n",
    "\n",
    "    return u1, u2\n",
    "\n",
    "generate_u()"
   ]
  },
  {
   "cell_type": "code",
   "execution_count": 4,
   "metadata": {},
   "outputs": [
    {
     "data": {
      "text/plain": [
       "(0, 3.75)"
      ]
     },
     "execution_count": 4,
     "metadata": {},
     "output_type": "execute_result"
    }
   ],
   "source": [
    "# производная f(x)\n",
    "diff_func = lambda x: pow(x, 2) * (15*A - 4*A*x)\n",
    "# считаем точки экстремума\n",
    "extremum_1 = 0\n",
    "extremum_2 = 15 * A / 4 / A\n",
    "\n",
    "extremum_1, extremum_2"
   ]
  },
  {
   "cell_type": "code",
   "execution_count": 5,
   "metadata": {},
   "outputs": [
    {
     "data": {
      "text/plain": [
       "0.421875"
      ]
     },
     "execution_count": 5,
     "metadata": {},
     "output_type": "execute_result"
    }
   ],
   "source": [
    "# считаем значения в точке экстремума\n",
    "M = full_function(extremum_2)\n",
    "M"
   ]
  },
  {
   "cell_type": "code",
   "execution_count": 6,
   "metadata": {},
   "outputs": [
    {
     "data": {
      "text/plain": [
       "(0.8167784805331141, 4.796128734360764)"
      ]
     },
     "execution_count": 6,
     "metadata": {},
     "output_type": "execute_result"
    }
   ],
   "source": [
    "x1_func = lambda u1: interval[0] + (interval[1] - interval[0]) * u1\n",
    "x2_func = lambda u2: M * u2\n",
    "\n",
    "sample = []\n",
    "while len(sample) < 100:\n",
    "    u1, u2 = generate_u()\n",
    "    is_correct = True\n",
    "    \n",
    "    x1 = x1_func(u1)\n",
    "    x2 = x2_func(u2)\n",
    "\n",
    "    f_x1 = full_function(x1)\n",
    "\n",
    "    comparsion = x2 <= f_x1\n",
    "\n",
    "    if comparsion:\n",
    "        sample.append(x1)\n",
    "\n",
    "sample.sort()\n",
    "delta = (sample[-1] - sample[0]) / 5\n",
    "sample[0], sample[-1]"
   ]
  },
  {
   "cell_type": "code",
   "execution_count": 19,
   "metadata": {},
   "outputs": [
    {
     "data": {
      "text/plain": [
       "[[0.8067784805331141, 1.612648531298644],\n",
       " [1.612648531298644, 2.408518582064174],\n",
       " [2.408518582064174, 3.204388632829704],\n",
       " [3.204388632829704, 4.000258683595234],\n",
       " [4.000258683595234, 4.806128734360764]]"
      ]
     },
     "execution_count": 19,
     "metadata": {},
     "output_type": "execute_result"
    }
   ],
   "source": [
    "intervals = [\n",
    "    [sample[0] - 0.01, sample[0] + delta]\n",
    "]\n",
    "\n",
    "for i in range(4):\n",
    "    intervals.append([intervals[-1][1], intervals[-1][1] + delta])\n",
    "\n",
    "intervals[-1][-1] += 0.01\n",
    "intervals"
   ]
  },
  {
   "cell_type": "code",
   "execution_count": 20,
   "metadata": {},
   "outputs": [
    {
     "data": {
      "text/plain": [
       "([0.06, 0.12, 0.23, 0.33, 0.26], 1.0)"
      ]
     },
     "execution_count": 20,
     "metadata": {},
     "output_type": "execute_result"
    }
   ],
   "source": [
    "counts = [0, 0, 0, 0, 0]\n",
    "\n",
    "for item in sample:\n",
    "    for i in range(len(intervals)):\n",
    "        if intervals[i][0] < item <= intervals[i][1]:\n",
    "            counts[i] += 1\n",
    "            break\n",
    "\n",
    "counts = list(map(lambda x: x / 100, counts))\n",
    "counts, sum(counts)"
   ]
  },
  {
   "cell_type": "code",
   "execution_count": 9,
   "metadata": {},
   "outputs": [
    {
     "data": {
      "text/plain": [
       "[0.037193911374703556,\n",
       " 0.12532029235824682,\n",
       " 0.24555613144675426,\n",
       " 0.3263638435276011,\n",
       " 0.24871196240371904]"
      ]
     },
     "execution_count": 9,
     "metadata": {},
     "output_type": "execute_result"
    }
   ],
   "source": [
    "p = [integrate.quad(full_function, interval[0], interval[1])[0] for interval in intervals]\n",
    "p"
   ]
  },
  {
   "cell_type": "code",
   "execution_count": 21,
   "metadata": {},
   "outputs": [
    {
     "data": {
      "text/plain": [
       "0.015748133275671858"
      ]
     },
     "execution_count": 21,
     "metadata": {},
     "output_type": "execute_result"
    }
   ],
   "source": [
    "t_eval = sum([(counts[i] - p[i]) * (counts[i] - p[i]) / p[i] for i in range(5)])\n",
    "t_eval"
   ]
  },
  {
   "cell_type": "code",
   "execution_count": 11,
   "metadata": {},
   "outputs": [],
   "source": [
    "t_crit = 0.71"
   ]
  },
  {
   "attachments": {},
   "cell_type": "markdown",
   "metadata": {},
   "source": [
    "#1.1.2"
   ]
  },
  {
   "cell_type": "code",
   "execution_count": 22,
   "metadata": {},
   "outputs": [
    {
     "name": "stdout",
     "output_type": "stream",
     "text": [
      "[62 12 41 81 29]\n"
     ]
    }
   ],
   "source": [
    "import numpy as np\n",
    "from scipy.stats import norm\n",
    "\n",
    "n = 5\n",
    "\n",
    "avg_vect_elems = [int(item) for item in input(\"Введите вектор средних: \").split()][:n]\n",
    "avg_vect = np.array(avg_vect_elems)\n",
    "      \n",
    "print(avg_vect)"
   ]
  },
  {
   "cell_type": "code",
   "execution_count": 13,
   "metadata": {},
   "outputs": [],
   "source": [
    "cov_matrix = np.array(\n",
    " [[1, -1,  1, -1,  1],\n",
    " [-1,  2, -2,  2, -2,],\n",
    " [ 1, -2,  3, -3,  3],\n",
    " [-1,  2, -3, 4,  -4],\n",
    " [ 1, -2,  3, -4,  5]]\n",
    ")"
   ]
  },
  {
   "cell_type": "code",
   "execution_count": 23,
   "metadata": {},
   "outputs": [
    {
     "name": "stdout",
     "output_type": "stream",
     "text": [
      "Выборка:\n",
      " [[62.33999862 11.51488635 41.53804599 82.06017537 27.30288711]\n",
      " [61.86442263 12.53569194 39.92675213 85.13412945 22.89047058]\n",
      " [59.5781863  13.75142763 40.40142295 80.33663794 29.70246256]]\n"
     ]
    }
   ],
   "source": [
    "selection_data = []\n",
    "for i in range(0, 200):\n",
    "  observ = np.matmul(np.linalg.cholesky(cov_matrix), np.random.normal(0, 1, n).T)\n",
    "  observ = np.add(observ, avg_vect)\n",
    "  selection_data.append(observ)\n",
    "\n",
    "selection = np.array(selection_data)\n",
    "print(\"Выборка:\\n\", selection[:3])"
   ]
  },
  {
   "cell_type": "code",
   "execution_count": 15,
   "metadata": {},
   "outputs": [
    {
     "name": "stdout",
     "output_type": "stream",
     "text": [
      "Оценка матрицы ковариаций:\n",
      " [[ 0.99090533 -0.88231202  0.86590957 -0.8458856   0.82193846]\n",
      " [-0.88231202  1.68273987 -1.66699851  1.59734659 -1.56052406]\n",
      " [ 0.86590957 -1.66699851  2.59859571 -2.55192345  2.47814932]\n",
      " [-0.8458856   1.59734659 -2.55192345  3.50019369 -3.41972268]\n",
      " [ 0.82193846 -1.56052406  2.47814932 -3.41972268  4.22648396]]\n"
     ]
    }
   ],
   "source": [
    "eval_cov_matrix = np.cov(selection.T)\n",
    "print(\"Оценка матрицы ковариаций:\\n\", eval_cov_matrix)"
   ]
  },
  {
   "cell_type": "code",
   "execution_count": 16,
   "metadata": {},
   "outputs": [
    {
     "name": "stdout",
     "output_type": "stream",
     "text": [
      "Коэффициент корреляции между 0 и 4:\n",
      "0.40163690311690625\n"
     ]
    }
   ],
   "source": [
    "[x, y] = list(map(int, input().split()))\n",
    "x -= 1\n",
    "y -= 1\n",
    "\n",
    "print(f\"Коэффициент корреляции между {x} и {y}:\")\n",
    "r_xy = np.corrcoef(selection.T[x], selection.T[y])[0, 1]\n",
    "print(r_xy)"
   ]
  },
  {
   "cell_type": "code",
   "execution_count": 17,
   "metadata": {},
   "outputs": [
    {
     "name": "stdout",
     "output_type": "stream",
     "text": [
      "Коэффциент корреляции на основе матрицы ковариаций:\n",
      "0.4472135954999579\n"
     ]
    }
   ],
   "source": [
    "print(\"Коэффциент корреляции на основе матрицы ковариаций:\")\n",
    "r_0 = cov_matrix[x,y]/np.sqrt(cov_matrix[x,x]*cov_matrix[y,y])\n",
    "print(r_0)"
   ]
  },
  {
   "cell_type": "code",
   "execution_count": 18,
   "metadata": {},
   "outputs": [
    {
     "name": "stdout",
     "output_type": "stream",
     "text": [
      "T:  0.7963323438353612\n",
      "T крит.:  1.959963984540054\n"
     ]
    }
   ],
   "source": [
    "z_xy = 0.5*np.log((1+r_xy)/(1-r_xy))\n",
    "z_0 = 0.5*np.log((1+r_0)/(1-r_0))\n",
    "\n",
    "alpha = 0.05\n",
    "\n",
    "t_eval = np.sqrt(200-3)*np.abs(z_xy - z_0 - r_0/(2*(200-1)))\n",
    "t_crit = norm.ppf(1-alpha/2)\n",
    "\n",
    "print(\"T: \", t_eval)\n",
    "print(\"T крит.: \", t_crit)"
   ]
  }
 ],
 "metadata": {
  "kernelspec": {
   "display_name": "stats",
   "language": "python",
   "name": "python3"
  },
  "language_info": {
   "codemirror_mode": {
    "name": "ipython",
    "version": 3
   },
   "file_extension": ".py",
   "mimetype": "text/x-python",
   "name": "python",
   "nbconvert_exporter": "python",
   "pygments_lexer": "ipython3",
   "version": "3.10.4"
  },
  "orig_nbformat": 4,
  "vscode": {
   "interpreter": {
    "hash": "ab6ca09cff8a9ff71938a847248485fdaf4fe9c35a9199f94d07fb0e87c0c589"
   }
  }
 },
 "nbformat": 4,
 "nbformat_minor": 2
}
